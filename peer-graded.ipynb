{
 "cells": [
  {
   "cell_type": "markdown",
   "id": "33539007",
   "metadata": {},
   "source": [
    "### Peer-graded - Tools for Data Science IBM"
   ]
  },
  {
   "cell_type": "markdown",
   "id": "79975c85",
   "metadata": {},
   "source": [
    "Hi, this is the final task of the IBM Data Science professional certificate - Tools for Data Science"
   ]
  },
  {
   "cell_type": "markdown",
   "id": "72206379",
   "metadata": {},
   "source": [
    "Top Data Science Programming Languages\n",
    "1. Python\n",
    "2. SQL (Structured Query Language)\n",
    "3. R\n",
    "4. Julia \n",
    "5. JavaScript\n",
    "6. Scala\n",
    "7. Java\n",
    "8. Matlab"
   ]
  },
  {
   "cell_type": "markdown",
   "id": "ad275661",
   "metadata": {},
   "source": [
    "Top Python Libraries for Data Science\n",
    "1. TensorFlow\n",
    "2. NumPy\n",
    "3. SciPy \n",
    "4. Pandas\n",
    "5. Matplotlib \n",
    "6. Keras\n",
    "7. SciKit-Learn\n",
    "8. PyTorch\n",
    "9. Scrapy\n",
    "10. BeautifulSoup\n",
    "11. LightGBM\n",
    "12. ELI5\n",
    "13. Theano\n",
    "14. NuPIC\n",
    "15. Ramp\n",
    "16. Pipenv\n",
    "17. Bob\n",
    "18. PyBrain\n",
    "19. Caffe2\n",
    "20. Chainer"
   ]
  },
  {
   "cell_type": "markdown",
   "id": "249652ed",
   "metadata": {},
   "source": [
    "| Tools for Data Science |\n",
    "| --- |\n",
    "| Python |\n",
    "| SQL |\n",
    "| Tableau |\n",
    "| Jupyter Notebook |\n",
    "| Matlab |\n",
    "| SAS |\n",
    "| R |\n"
   ]
  },
  {
   "cell_type": "markdown",
   "id": "5e2d2da0",
   "metadata": {},
   "source": [
    "### Arithmetic expression examples\n",
    "\n",
    "- 3 + 5 = 8\n",
    "- 4 - 2 = 2\n",
    "- 3 * 4 = 12\n",
    "- 10 / 5 = 2\n",
    "- (2)^2 = 4\n"
   ]
  },
  {
   "cell_type": "code",
   "execution_count": 3,
   "id": "9655da70",
   "metadata": {
    "scrolled": true
   },
   "outputs": [
    {
     "name": "stdout",
     "output_type": "stream",
     "text": [
      "Enter the value = 3\n",
      "Enter the value = 4\n",
      "12\n"
     ]
    }
   ],
   "source": [
    "a = int(input(\"Enter the value = \"))\n",
    "b = int(input(\"Enter the value = \"))\n",
    "result = a * b\n",
    "print(result)"
   ]
  },
  {
   "cell_type": "code",
   "execution_count": 5,
   "id": "3bf90075",
   "metadata": {
    "scrolled": true
   },
   "outputs": [
    {
     "name": "stdout",
     "output_type": "stream",
     "text": [
      "Enter the minutes = 60\n",
      "1.0 hour\n"
     ]
    }
   ],
   "source": [
    "a = int(input(\"Enter the minutes = \"))\n",
    "hour = a/60\n",
    "print(hour, \"hour\")"
   ]
  },
  {
   "cell_type": "markdown",
   "id": "3d0f020e",
   "metadata": {},
   "source": [
    "### The objectives are:\n",
    "\n",
    "- learn data science\n",
    "- apply python\n",
    "- learn to use python in Jupyter\n",
    "- Finalize the professional certificate\n",
    "- make sure you understand the concepts"
   ]
  },
  {
   "cell_type": "markdown",
   "id": "eb1e190b",
   "metadata": {},
   "source": [
    "### My name is Nathalia\n",
    "\n",
    "and I'm glad to be here!"
   ]
  },
  {
   "cell_type": "code",
   "execution_count": null,
   "id": "dd09a118",
   "metadata": {},
   "outputs": [],
   "source": []
  }
 ],
 "metadata": {
  "kernelspec": {
   "display_name": "Python 3 (ipykernel)",
   "language": "python",
   "name": "python3"
  },
  "language_info": {
   "codemirror_mode": {
    "name": "ipython",
    "version": 3
   },
   "file_extension": ".py",
   "mimetype": "text/x-python",
   "name": "python",
   "nbconvert_exporter": "python",
   "pygments_lexer": "ipython3",
   "version": "3.9.12"
  }
 },
 "nbformat": 4,
 "nbformat_minor": 5
}
